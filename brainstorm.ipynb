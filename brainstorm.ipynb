{
 "cells": [
  {
   "cell_type": "markdown",
   "metadata": {},
   "source": [
    "# Rules\n",
    "Texas Holdem"
   ]
  },
  {
   "cell_type": "markdown",
   "metadata": {},
   "source": [
    "# In-between iteration goals:\n",
    "1. Fully develop the evaluation and player class\n",
    "2. Test write some algorithms\n",
    "3. Deploy as Docker image, host it somewhere\n",
    "4. "
   ]
  },
  {
   "cell_type": "markdown",
   "metadata": {},
   "source": [
    "# Final implementation:\n",
    "Website where people could submit their algorithm, view leaderboard, know the rules and how to implement the algo themselves.\n"
   ]
  }
 ],
 "metadata": {
  "language_info": {
   "name": "python"
  }
 },
 "nbformat": 4,
 "nbformat_minor": 2
}
