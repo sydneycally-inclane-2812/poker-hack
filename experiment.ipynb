{
 "cells": [
  {
   "cell_type": "code",
   "execution_count": 2,
   "metadata": {},
   "outputs": [],
   "source": [
    "import random\n",
    "\n",
    "\n",
    "class TXHPoker:\n",
    "    def __init__(self, *, players):\n",
    "        '''\n",
    "        TODO: \n",
    "        - Implement turn order\n",
    "        - Implement bet amount and pot\n",
    "        - Secure deck data, \n",
    "        '''\n",
    "        self.suits = ('Clubs', 'Diamonds', 'Hearts', 'Spades')\n",
    "        self.ranks = ('2', '3', '4', '5', '6', '7', '8', '9', '10', 'J', 'Q', 'K', 'A')\n",
    "\n",
    "        self.players = players\n",
    "        self.turn_order = players\n",
    "        self.big, self.small = 10, 5\n",
    "        self.player_funds = [player.chips for player in players]\n",
    "\n",
    "    def shuffle(self):\n",
    "        random.shuffle(self.__deck)\n",
    "\n",
    "    def _update_player_funds(self):\n",
    "        self.player_funds = [player.chips for player in self.players]\n",
    "    \n",
    "    def _reset(self):\n",
    "        self.__deck = [(rank, suit) for rank in self.ranks for suit in self.suits]\n",
    "        self.pot = 0\n",
    "    \n",
    "    def start_game(self):\n",
    "        pass\n",
    "\n",
    "    def end_game(self):\n",
    "        pass"
   ]
  },
  {
   "cell_type": "code",
   "execution_count": 3,
   "metadata": {},
   "outputs": [],
   "source": [
    "class Player:\n",
    "    def __init__(self):\n",
    "        self.__hand = []\n",
    "        self.chips = 1000\n",
    "        self.__bet = 0\n",
    "    def get_play(turn_num, hand, table, bet):\n",
    "        '''\n",
    "        turn_num: int: the turn number\n",
    "        curr_hand: list of tuples: the player's hand\n",
    "        table: list of tuples: the cards on the table\n",
    "        bet: int\n",
    "\n",
    "        returns:\n",
    "        action : str: the action the player wants to take\n",
    "        bet : int: the amount the player wants to bet\n",
    "        '''\n",
    "        pass\n",
    "    def peek_another_player(self, player):\n",
    "        return player.__hand"
   ]
  },
  {
   "cell_type": "code",
   "execution_count": 4,
   "metadata": {},
   "outputs": [
    {
     "data": {
      "text/plain": [
       "[]"
      ]
     },
     "execution_count": 4,
     "metadata": {},
     "output_type": "execute_result"
    }
   ],
   "source": [
    "player1 = Player()\n",
    "player2 = Player()\n",
    "player3 = Player()\n",
    "player4 = Player()\n",
    "\n",
    "player1.__hand = [('A', 'Hearts'), ('K', 'Diamonds')]\n",
    "player2.__hand = [('Q', 'Spades'), ('J', 'Clubs')]\n",
    "player3.__hand = [('10', 'Hearts'), ('9', 'Diamonds')]\n",
    "player4.__hand = [('8', 'Spades'), ('7', 'Clubs')]\n",
    "\n",
    "game = TXHPoker(players = [player1, player2, player3, player4])\n",
    "player1.peek_another_player(player2)\n"
   ]
  },
  {
   "cell_type": "code",
   "execution_count": 10,
   "metadata": {},
   "outputs": [
    {
     "data": {
      "text/plain": [
       "[]"
      ]
     },
     "execution_count": 10,
     "metadata": {},
     "output_type": "execute_result"
    }
   ],
   "source": [
    "player1.peek_another_player(player3)"
   ]
  }
 ],
 "metadata": {
  "kernelspec": {
   "display_name": "Python 3",
   "language": "python",
   "name": "python3"
  },
  "language_info": {
   "codemirror_mode": {
    "name": "ipython",
    "version": 3
   },
   "file_extension": ".py",
   "mimetype": "text/x-python",
   "name": "python",
   "nbconvert_exporter": "python",
   "pygments_lexer": "ipython3",
   "version": "3.13.0"
  }
 },
 "nbformat": 4,
 "nbformat_minor": 2
}
