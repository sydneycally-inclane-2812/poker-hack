{
 "cells": [
  {
   "cell_type": "code",
   "execution_count": null,
   "metadata": {},
   "outputs": [],
   "source": [
    "import random\n",
    "from dataclasses import dataclass, field\n",
    "\n",
    "\n",
    "@dataclass(frozen=True)\n",
    "class TXHPoker:\n",
    "    def __init__(self, players):\n",
    "        '''\n",
    "        TODO: \n",
    "        - Implement turn order\n",
    "        - Implement bet amount and pot\n",
    "        '''\n",
    "        self.suits = ('Clubs', 'Diamonds', 'Hearts', 'Spades')\n",
    "        self.ranks = ('2', '3', '4', '5', '6', '7', '8', '9', '10', 'J', 'Q', 'K', 'A')\n",
    "        self.__deck = [(rank, suit) for rank in self.__ranks for suit in self.__suits]\n",
    "\n",
    "        self.pot = 0\n",
    "        self.players = tuple(players)\n",
    "        self.turn_order = players\n",
    "        self.big, self.small = 10, 5\n",
    "        self.player_funds = [player.chips for player in players]\n",
    "\n",
    "        self.shuffle()\n",
    "\n",
    "    def shuffle(self):\n",
    "        random.shuffle(self.__deck)"
   ]
  },
  {
   "cell_type": "code",
   "execution_count": null,
   "metadata": {},
   "outputs": [],
   "source": [
    "class Player:\n",
    "    def __init__(self):\n",
    "        self.__hand = []\n",
    "        self.chips = 1000\n",
    "        self.__bet = 0\n",
    "    def get_play(turn_num, hand, table, bet):\n",
    "        '''\n",
    "        turn_num: int: the turn number\n",
    "        hand: list of tuples: the player's hand\n",
    "        table: list of tuples: the cards on the table\n",
    "        bet: int\n",
    "        '''\n",
    "        pass"
   ]
  },
  {
   "cell_type": "code",
   "execution_count": null,
   "metadata": {},
   "outputs": [],
   "source": [
    "player1 = Player()\n",
    "player2 = Player()\n",
    "player3 = Player()\n",
    "player4 = Player()\n",
    "\n",
    "game = TXHPoker([player1, player2, player3, player4])\n"
   ]
  },
  {
   "cell_type": "code",
   "execution_count": 5,
   "metadata": {},
   "outputs": [
    {
     "data": {
      "text/plain": [
       "0"
      ]
     },
     "execution_count": 5,
     "metadata": {},
     "output_type": "execute_result"
    }
   ],
   "source": [
    "game.pot"
   ]
  }
 ],
 "metadata": {
  "kernelspec": {
   "display_name": "Python 3",
   "language": "python",
   "name": "python3"
  },
  "language_info": {
   "codemirror_mode": {
    "name": "ipython",
    "version": 3
   },
   "file_extension": ".py",
   "mimetype": "text/x-python",
   "name": "python",
   "nbconvert_exporter": "python",
   "pygments_lexer": "ipython3",
   "version": "3.13.0"
  }
 },
 "nbformat": 4,
 "nbformat_minor": 2
}
